{
 "cells": [
  {
   "cell_type": "code",
   "execution_count": null,
   "metadata": {},
   "outputs": [],
   "source": [
    "import tensorflow as tf\n",
    "import numpy as np\n",
    "import PIL\n",
    "import os"
   ]
  },
  {
   "cell_type": "code",
   "execution_count": null,
   "metadata": {},
   "outputs": [],
   "source": [
    "def load_image(img_file, target_size=(224,224)):\n",
    "    X = np.zeros((1, *target_size, 3))\n",
    "    X[0, ] = np.asarray(tf.keras.preprocessing.image.load_img(\n",
    "        img_file, \n",
    "        target_size=target_size)\n",
    "    )\n",
    "    X = tf.keras.applications.mobilenet.preprocess_input(X)\n",
    "    return X\n",
    "\n",
    "def ensure_folder_exists(folder):\n",
    "    if not os.path.exists(folder):\n",
    "        os.makedirs(folder)"
   ]
  },
  {
   "cell_type": "code",
   "execution_count": null,
   "metadata": {},
   "outputs": [],
   "source": [
    "model = tf.keras.applications.mobilenet.MobileNet()\n",
    "model.summary()"
   ]
  },
  {
   "cell_type": "code",
   "execution_count": null,
   "metadata": {},
   "outputs": [],
   "source": [
    "model = tf.keras.applications.mobilenet.MobileNet(\n",
    "  input_shape=(224, 224, 3), \n",
    "  include_top=False, \n",
    "  pooling='avg'\n",
    ")"
   ]
  },
  {
   "cell_type": "code",
   "execution_count": null,
   "metadata": {},
   "outputs": [],
   "source": [
    "model.summary()"
   ]
  },
  {
   "cell_type": "code",
   "execution_count": null,
   "metadata": {},
   "outputs": [],
   "source": [
    "from tensorflow.keras.models import Model\n",
    "from tensorflow.keras.layers import (Dropout, Dense, Softmax)\n",
    "\n",
    "x = Dropout(rate=0.4)(model.output)\n",
    "x = Dense(3)(x)\n",
    "x = Softmax()(x)\n",
    "model= Model(model.inputs, x)"
   ]
  },
  {
   "cell_type": "code",
   "execution_count": null,
   "metadata": {},
   "outputs": [],
   "source": [
    "model.summary()"
   ]
  },
  {
   "cell_type": "code",
   "execution_count": null,
   "metadata": {},
   "outputs": [],
   "source": [
    "for layer in model.layers[:-3]:\n",
    "    layer.trainable = False"
   ]
  },
  {
   "cell_type": "code",
   "execution_count": null,
   "metadata": {},
   "outputs": [],
   "source": [
    "from tensorflow.keras.optimizers import Adam\n",
    "model.compile(\n",
    "    optimizer=Adam(lr=0.001),\n",
    "    loss='categorical_crossentropy'\n",
    ")"
   ]
  },
  {
   "cell_type": "code",
   "execution_count": null,
   "metadata": {},
   "outputs": [],
   "source": [
    "from tensorflow.keras.applications import mobilenet as _mobilenet\n",
    "\n",
    "datagen = tf.keras.preprocessing.image.ImageDataGenerator(\n",
    "    preprocessing_function=_mobilenet.preprocess_input,\n",
    "    shear_range=0.2,\n",
    "    zoom_range=0.2,\n",
    "    horizontal_flip=True,\n",
    "    validation_split=0.1\n",
    ")"
   ]
  },
  {
   "cell_type": "code",
   "execution_count": null,
   "metadata": {},
   "outputs": [],
   "source": [
    "ensure_folder_exists('training_aug')\n",
    "training = datagen.flow_from_directory( \n",
    "    './images', \n",
    "    target_size=(224, 224),\n",
    "    save_to_dir='./training_aug',\n",
    "    subset='training'\n",
    ") \n",
    "\n",
    "ensure_folder_exists('validation_aug')\n",
    "validation = datagen.flow_from_directory( \n",
    "    './images',\n",
    "    target_size=(224, 224),\n",
    "    save_to_dir='./validation_aug',\n",
    "    subset='validation'\n",
    ") "
   ]
  },
  {
   "cell_type": "code",
   "execution_count": null,
   "metadata": {},
   "outputs": [],
   "source": [
    "from keras_tqdm import TQDMNotebookCallback\n",
    "\n",
    "batch_size = 32\n",
    "\n",
    "history = model.fit_generator(\n",
    "    generator=training,\n",
    "    steps_per_epoch=training.samples // batch_size,\n",
    "    epochs=10,\n",
    "    callbacks=[TQDMNotebookCallback(leave_inner=True, leave_outer=True)],\n",
    "    validation_data=validation,\n",
    "    validation_steps=validation.samples // batch_size\n",
    ")"
   ]
  },
  {
   "cell_type": "code",
   "execution_count": null,
   "metadata": {},
   "outputs": [],
   "source": [
    "import matplotlib.pyplot as plt\n",
    "plt.plot(history.history['loss'])\n",
    "plt.plot(history.history['val_loss'])\n",
    "plt.title('Model loss')\n",
    "plt.ylabel('Loss')\n",
    "plt.xlabel('Epoch')\n",
    "plt.legend(['Train', 'Validation'], loc='upper left')\n",
    "plt.show()"
   ]
  },
  {
   "cell_type": "code",
   "execution_count": null,
   "metadata": {},
   "outputs": [],
   "source": [
    "murray_test = load_image('murray.png')\n",
    "mortez_test = load_image('mortez.png')\n",
    "mortez1_test = load_image('mortez1.png')\n",
    "false_test = load_image('false.png')\n",
    "pfeiffer_test = load_image('pfeiffer.png')"
   ]
  },
  {
   "cell_type": "code",
   "execution_count": null,
   "metadata": {},
   "outputs": [],
   "source": [
    "from numpy import random\n",
    "\n",
    "random_mortez = random.choice(os.listdir('images/chloë_grace_moretz/'))\n",
    "mortez_path = os.path.join('images/chloë_grace_moretz',random_mortez)\n",
    "mortez2_test = load_image(mortez_path)\n",
    "\n",
    "random_murray = random.choice(os.listdir('images/f._murray_abraham/'))\n",
    "murray_path = os.path.join('images/f._murray_abraham',random_murray)\n",
    "murray1_test = load_image(murray_path)\n",
    "\n",
    "random_pfeiffer = random.choice(os.listdir('images/michelle_pfeiffer/'))\n",
    "pfeiffer_path = os.path.join('images/michelle_pfeiffer',random_pfeiffer)\n",
    "pfeiffer1_test = load_image(pfeiffer_path)"
   ]
  },
  {
   "cell_type": "code",
   "execution_count": null,
   "metadata": {},
   "outputs": [],
   "source": [
    "display(tf.keras.preprocessing.image.load_img('murray.png', target_size=(224,224)))\n",
    "print(f'''murray: {np.round(model.predict(murray_test), 2)\n",
    "}''')"
   ]
  },
  {
   "cell_type": "code",
   "execution_count": null,
   "metadata": {},
   "outputs": [],
   "source": [
    "display(tf.keras.preprocessing.image.load_img(murray_path, target_size=(224,224)))\n",
    "print(f'''mortez1: {np.round(model.predict(murray1_test), 2)\n",
    "}''')"
   ]
  },
  {
   "cell_type": "code",
   "execution_count": null,
   "metadata": {},
   "outputs": [],
   "source": [
    "display(tf.keras.preprocessing.image.load_img('mortez.png', target_size=(224,224)))\n",
    "print(f'''mortez: {np.round(model.predict(mortez_test), 2)\n",
    "}''')"
   ]
  },
  {
   "cell_type": "code",
   "execution_count": null,
   "metadata": {},
   "outputs": [],
   "source": [
    "display(tf.keras.preprocessing.image.load_img('mortez1.png', target_size=(224,224)))\n",
    "print(f'''mortez1: {np.round(model.predict(mortez1_test), 2)\n",
    "}''')"
   ]
  },
  {
   "cell_type": "code",
   "execution_count": null,
   "metadata": {},
   "outputs": [],
   "source": [
    "display(tf.keras.preprocessing.image.load_img(mortez_path, target_size=(224,224)))\n",
    "print(f'''mortez2: {np.round(model.predict(mortez2_test), 2)\n",
    "}''')"
   ]
  },
  {
   "cell_type": "code",
   "execution_count": null,
   "metadata": {},
   "outputs": [],
   "source": [
    "display(tf.keras.preprocessing.image.load_img('false.png', target_size=(224,224)))\n",
    "print(f'''false: {np.round(model.predict(false_test), 2)\n",
    "}''')"
   ]
  },
  {
   "cell_type": "code",
   "execution_count": null,
   "metadata": {},
   "outputs": [],
   "source": [
    "display(tf.keras.preprocessing.image.load_img('pfeiffer.png', target_size=(224,224)))\n",
    "print(f'''pfeiffer: {np.round(model.predict(pfeiffer_test), 2)\n",
    "}''')"
   ]
  },
  {
   "cell_type": "code",
   "execution_count": null,
   "metadata": {},
   "outputs": [],
   "source": [
    "display(tf.keras.preprocessing.image.load_img(pfeiffer_path, target_size=(224,224)))\n",
    "print(f'''pfeiffer: {np.round(model.predict(pfeiffer1_test), 2)\n",
    "}''')"
   ]
  }
 ],
 "metadata": {
  "kernelspec": {
   "display_name": "Python 3",
   "language": "python",
   "name": "python3"
  },
  "language_info": {
   "codemirror_mode": {
    "name": "ipython",
    "version": 3
   },
   "file_extension": ".py",
   "mimetype": "text/x-python",
   "name": "python",
   "nbconvert_exporter": "python",
   "pygments_lexer": "ipython3",
   "version": "3.6.8"
  }
 },
 "nbformat": 4,
 "nbformat_minor": 2
}
